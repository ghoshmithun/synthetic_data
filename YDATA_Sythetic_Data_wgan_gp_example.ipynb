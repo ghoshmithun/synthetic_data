{
  "nbformat": 4,
  "nbformat_minor": 0,
  "metadata": {
    "kernelspec": {
      "display_name": "Python 3",
      "language": "python",
      "name": "python3"
    },
    "language_info": {
      "codemirror_mode": {
        "name": "ipython",
        "version": 3
      },
      "file_extension": ".py",
      "mimetype": "text/x-python",
      "name": "python",
      "nbconvert_exporter": "python",
      "pygments_lexer": "ipython3",
      "version": "3.7.3"
    },
    "colab": {
      "name": "YDATA - Sythetic Data - wgan_gp_example.ipynb",
      "provenance": [],
      "collapsed_sections": []
    }
  },
  "cells": [
    {
      "cell_type": "markdown",
      "metadata": {
        "collapsed": true,
        "pycharm": {
          "name": "#%% md\n"
        },
        "id": "QSWuTWoE9b3X"
      },
      "source": [
        "# The credit fraud dataset - Synthesizing the minority class\n",
        "In this notebook it's presented a practical exercise of how to use the avilable library GANs to synthesize tabular data.\n",
        "For the purpose of this exercise it has been used the Credit Fraud dataset from Kaggle, that you can find here:https: //www.kaggle.com/mlg-ulb/creditcardfraud"
      ]
    },
    {
      "cell_type": "code",
      "metadata": {
        "pycharm": {
          "name": "#%%\n"
        },
        "id": "wAIfjXD-9b3d"
      },
      "source": [
        "# Note: You can select between running the Notebook on \"CPU\" or \"GPU\"\n",
        "# Click \"Runtime > Change Runtime time\" and set \"GPU\""
      ],
      "execution_count": null,
      "outputs": []
    },
    {
      "cell_type": "code",
      "metadata": {
        "id": "zj83NIwuUFGE"
      },
      "source": [
        "!pip install --force-reinstall --no-deps https://github.com/ceshine/ydata-synthetic/archive/master.zip"
      ],
      "execution_count": null,
      "outputs": []
    },
    {
      "cell_type": "code",
      "metadata": {
        "pycharm": {
          "name": "#%%\n"
        },
        "id": "Mqxrkp-59b3d"
      },
      "source": [
        "# Install ydata-synthetic lib\n",
        "# !pip install --no-deps git+https://github.com/ydataai/ydata-synthetic.git\n",
        "!pip install -U pmlb tensorflow-privacy watermark"
      ],
      "execution_count": null,
      "outputs": []
    },
    {
      "cell_type": "code",
      "metadata": {
        "colab": {
          "base_uri": "https://localhost:8080/"
        },
        "id": "EoiSrR3ENXdN",
        "outputId": "e998a308-1810-4fca-cdf4-e146d6946d31"
      },
      "source": [
        "%load_ext watermark\n",
        "%watermark -p tensorflow,pandas -z -v -n -m -w"
      ],
      "execution_count": null,
      "outputs": [
        {
          "output_type": "stream",
          "text": [
            "Sun Dec 13 2020 UTC \n",
            "\n",
            "CPython 3.6.9\n",
            "IPython 5.5.0\n",
            "\n",
            "tensorflow 2.3.0\n",
            "pandas 1.1.5\n",
            "\n",
            "compiler   : GCC 8.4.0\n",
            "system     : Linux\n",
            "release    : 4.19.112+\n",
            "machine    : x86_64\n",
            "processor  : x86_64\n",
            "CPU cores  : 2\n",
            "interpreter: 64bit\n",
            "watermark 2.0.2\n"
          ],
          "name": "stdout"
        }
      ]
    },
    {
      "cell_type": "code",
      "metadata": {
        "id": "IuiT8mjTG26R"
      },
      "source": [
        "from google.colab import drive\n",
        "drive.mount('/gdrive')"
      ],
      "execution_count": null,
      "outputs": []
    },
    {
      "cell_type": "code",
      "metadata": {
        "id": "D_Pi5NqHPexV"
      },
      "source": [
        "!cp /gdrive/My\\ Drive/colab\\ tmp/credit_fraud.zip . \n",
        "!unzip credit_fraud.zip"
      ],
      "execution_count": null,
      "outputs": []
    },
    {
      "cell_type": "code",
      "metadata": {
        "pycharm": {
          "name": "#%%\n"
        },
        "id": "KDh97lfO9b3e"
      },
      "source": [
        "import importlib\n",
        "import sys  \n",
        "\n",
        "import pandas as pd\n",
        "import numpy as np\n",
        "import sklearn.cluster as cluster\n",
        "import matplotlib.pyplot as plt\n",
        "\n",
        "from ydata_synthetic.synthesizers import WGAN_GP\n",
        "from ydata_synthetic.preprocessing.credit_fraud import *"
      ],
      "execution_count": null,
      "outputs": []
    },
    {
      "cell_type": "code",
      "metadata": {
        "pycharm": {
          "name": "#%%\n"
        },
        "id": "cCjBwKeF9b3f"
      },
      "source": [
        "#Read the original data and have it preprocessed\n",
        "data = pd.read_csv('creditcard.csv', index_col=[0])"
      ],
      "execution_count": null,
      "outputs": []
    },
    {
      "cell_type": "code",
      "metadata": {
        "id": "4sT3Wmjl9b3f",
        "colab": {
          "base_uri": "https://localhost:8080/"
        },
        "outputId": "84968dd9-13db-4800-adfa-de4147431e8c"
      },
      "source": [
        "label_cols = [ i for i in data.columns if 'Class' in i ]\n",
        "data_cols = [ i for i in data.columns if i not in label_cols ]\n",
        "\n",
        "print('Dataset columns: {}'.format(\", \".join(data_cols)))"
      ],
      "execution_count": null,
      "outputs": [
        {
          "output_type": "stream",
          "text": [
            "Dataset columns: V1, V2, V3, V4, V5, V6, V7, V8, V9, V10, V11, V12, V13, V14, V15, V16, V17, V18, V19, V20, V21, V22, V23, V24, V25, V26, V27, V28, Amount\n"
          ],
          "name": "stdout"
        }
      ]
    },
    {
      "cell_type": "code",
      "metadata": {
        "pycharm": {
          "name": "#%%\n"
        },
        "id": "T9w2E8DK9b3h"
      },
      "source": [
        "# #Before training the GAN do not forget to apply the required data transformations\n",
        "# #To ease here we've applied a PowerTransformation\n",
        "# data = transformations(data)\n",
        "\n",
        "# #For the purpose of this example we will only synthesize the minority class\n",
        "# train_data = data.loc[ data['Class']==1 ].copy()\n",
        "\n",
        "# print(\"Dataset info: Number of records - {} Number of varibles - {}\".format(train_data.shape[0], train_data.shape[1]))\n",
        "\n",
        "# algorithm = cluster.KMeans\n",
        "# args, kwds = (), {'n_clusters':2, 'random_state':0}\n",
        "# labels = algorithm(*args, **kwds).fit_predict(train_data[ data_cols ])\n",
        "\n",
        "# print( pd.DataFrame( [ [np.sum(labels==i)] for i in np.unique(labels) ], columns=['count'], index=np.unique(labels) ) )\n",
        "\n",
        "# fraud_w_classes = train_data.copy()\n",
        "# fraud_w_classes['Class'] = labels"
      ],
      "execution_count": null,
      "outputs": []
    },
    {
      "cell_type": "markdown",
      "metadata": {
        "id": "UOKICz6M5E2b"
      },
      "source": [
        "## Split the Data"
      ]
    },
    {
      "cell_type": "code",
      "metadata": {
        "colab": {
          "base_uri": "https://localhost:8080/"
        },
        "id": "lXg1NDFT4-Wz",
        "outputId": "cbf9aec1-8fa7-4ebc-ba79-87ee9d23b55c"
      },
      "source": [
        "from sklearn.ensemble import RandomForestClassifier\n",
        "from sklearn.model_selection import StratifiedShuffleSplit\n",
        "sss_1 = StratifiedShuffleSplit(test_size=0.4, random_state=42)\n",
        "sss_2 = StratifiedShuffleSplit(test_size=0.5, random_state=42)\n",
        "data = pd.read_csv('creditcard.csv', index_col=[0])[data_cols + [\"Class\"]]\n",
        "#Before training the GAN do not forget to apply the required data transformations\n",
        "#To ease here we've applied a PowerTransformation\n",
        "data = transformations(data)\n",
        "data[\"Class\"].value_counts()"
      ],
      "execution_count": null,
      "outputs": [
        {
          "output_type": "execute_result",
          "data": {
            "text/plain": [
              "0    284315\n",
              "1       492\n",
              "Name: Class, dtype: int64"
            ]
          },
          "metadata": {
            "tags": []
          },
          "execution_count": 5
        }
      ]
    },
    {
      "cell_type": "code",
      "metadata": {
        "colab": {
          "base_uri": "https://localhost:8080/"
        },
        "id": "4PtTegKX5ECm",
        "outputId": "b2528de6-9f46-40ae-a803-f744ca6f6ae3"
      },
      "source": [
        "sampled_data = pd.concat([data[data.Class == 1], data[data.Class==0].sample(20000)], axis=0)\n",
        "train_idx, test_idx = next(sss_1.split(sampled_data, sampled_data[\"Class\"]))\n",
        "X_train, X_test, y_train, y_test = sampled_data.iloc[train_idx][data_cols], sampled_data.iloc[test_idx][data_cols], sampled_data.iloc[train_idx][\"Class\"], sampled_data.iloc[test_idx][\"Class\"]\n",
        "valid_idx, test_idx = next(sss_2.split(X_test, y_test))\n",
        "X_valid, X_test, y_valid, y_test = X_test.iloc[valid_idx], X_test.iloc[test_idx], y_test.iloc[valid_idx], y_test.iloc[test_idx]\n",
        "X_train.shape, X_test.shape, X_valid.shape, y_train.shape, y_test.shape, y_valid.shape"
      ],
      "execution_count": null,
      "outputs": [
        {
          "output_type": "execute_result",
          "data": {
            "text/plain": [
              "((12295, 29), (4099, 29), (4098, 29), (12295,), (4099,), (4098,))"
            ]
          },
          "metadata": {
            "tags": []
          },
          "execution_count": 6
        }
      ]
    },
    {
      "cell_type": "markdown",
      "metadata": {
        "pycharm": {
          "name": "#%% md\n"
        },
        "id": "IF9a44hW9b3i"
      },
      "source": [
        "# GAN training\n",
        "\n",
        "Below you can try to train your own generators using the available GANs architectures. You can train it either with labels (created using KMeans) or with no labels at all. \n",
        "\n",
        "Remeber that for this exercise in particular we've decided to synthesize only the minority class from the Credit Fraud dataset."
      ]
    },
    {
      "cell_type": "code",
      "metadata": {
        "pycharm": {
          "name": "#%%\n"
        },
        "id": "y9EtxazF9b3j",
        "colab": {
          "base_uri": "https://localhost:8080/"
        },
        "outputId": "8a41da88-6e14-460f-be02-7e50127220d4"
      },
      "source": [
        "#Define the GAN and training parameters\n",
        "noise_dim = 32\n",
        "dim = 64\n",
        "batch_size = 192\n",
        "\n",
        "log_step = 100\n",
        "epochs = 1200+1\n",
        "learning_rate = 5e-4\n",
        "beta_1 = 0.5\n",
        "beta_2 = 0.9\n",
        "models_dir = './cache'\n",
        "\n",
        "gan_args = [batch_size, learning_rate, beta_1, beta_2, noise_dim, X_train.shape[1], dim]\n",
        "train_args = ['', epochs, log_step]\n",
        "train_samples = X_train[y_train==1].reset_index(drop=True)\n",
        "train_samples.shape"
      ],
      "execution_count": null,
      "outputs": [
        {
          "output_type": "execute_result",
          "data": {
            "text/plain": [
              "(295, 29)"
            ]
          },
          "metadata": {
            "tags": []
          },
          "execution_count": 7
        }
      ]
    },
    {
      "cell_type": "code",
      "metadata": {
        "pycharm": {
          "name": "#%%\n"
        },
        "id": "79eS5erY9b3j"
      },
      "source": [
        "#Training the GAN model chosen: Vanilla GAN, CGAN, DCGAN, etc.\n",
        "synthesizer = WGAN_GP(gan_args, n_critic=4)\n",
        "# Only generate fraud data\n",
        "synthesizer.train(train_samples, train_args)"
      ],
      "execution_count": null,
      "outputs": []
    },
    {
      "cell_type": "code",
      "metadata": {
        "id": "3FhyrY3V9b3k",
        "colab": {
          "base_uri": "https://localhost:8080/"
        },
        "outputId": "d000e0c0-2709-4f40-a713-516c84e3bef4"
      },
      "source": [
        "# Generator discription\n",
        "synthesizer.generator.summary()"
      ],
      "execution_count": null,
      "outputs": [
        {
          "output_type": "stream",
          "text": [
            "Model: \"functional_1\"\n",
            "_________________________________________________________________\n",
            "Layer (type)                 Output Shape              Param #   \n",
            "=================================================================\n",
            "input_1 (InputLayer)         [(192, 32)]               0         \n",
            "_________________________________________________________________\n",
            "dense (Dense)                (192, 64)                 2112      \n",
            "_________________________________________________________________\n",
            "dense_1 (Dense)              (192, 128)                8320      \n",
            "_________________________________________________________________\n",
            "dense_2 (Dense)              (192, 256)                33024     \n",
            "_________________________________________________________________\n",
            "dense_3 (Dense)              (192, 29)                 7453      \n",
            "=================================================================\n",
            "Total params: 50,909\n",
            "Trainable params: 50,909\n",
            "Non-trainable params: 0\n",
            "_________________________________________________________________\n"
          ],
          "name": "stdout"
        }
      ]
    },
    {
      "cell_type": "code",
      "metadata": {
        "pycharm": {
          "name": "#%%\n"
        },
        "id": "ea4lr3gv9b3l",
        "colab": {
          "base_uri": "https://localhost:8080/"
        },
        "outputId": "168d8075-2e06-49fd-e465-38904469012f"
      },
      "source": [
        "# Critic description\n",
        "synthesizer.critic.summary()"
      ],
      "execution_count": null,
      "outputs": [
        {
          "output_type": "stream",
          "text": [
            "Model: \"functional_3\"\n",
            "_________________________________________________________________\n",
            "Layer (type)                 Output Shape              Param #   \n",
            "=================================================================\n",
            "input_2 (InputLayer)         [(192, 29)]               0         \n",
            "_________________________________________________________________\n",
            "dense_4 (Dense)              (192, 256)                7680      \n",
            "_________________________________________________________________\n",
            "dropout (Dropout)            (192, 256)                0         \n",
            "_________________________________________________________________\n",
            "dense_5 (Dense)              (192, 128)                32896     \n",
            "_________________________________________________________________\n",
            "dropout_1 (Dropout)          (192, 128)                0         \n",
            "_________________________________________________________________\n",
            "dense_6 (Dense)              (192, 64)                 8256      \n",
            "_________________________________________________________________\n",
            "dense_7 (Dense)              (192, 1)                  65        \n",
            "=================================================================\n",
            "Total params: 48,897\n",
            "Trainable params: 48,897\n",
            "Non-trainable params: 0\n",
            "_________________________________________________________________\n"
          ],
          "name": "stdout"
        }
      ]
    },
    {
      "cell_type": "code",
      "metadata": {
        "pycharm": {
          "name": "#%%\n"
        },
        "id": "HCbN5NET9b3m"
      },
      "source": [
        "!mkdir -p saved/gan\n",
        "#You can easily save the trained generator and loaded it aftwerwards\n",
        "synthesizer.save('./saved/gan', 'generator_fraud')"
      ],
      "execution_count": null,
      "outputs": []
    },
    {
      "cell_type": "code",
      "metadata": {
        "id": "p5365CF69b3m"
      },
      "source": [
        "models = {'GAN': ['GAN', False, synthesizer.generator]}"
      ],
      "execution_count": null,
      "outputs": []
    },
    {
      "cell_type": "code",
      "metadata": {
        "colab": {
          "base_uri": "https://localhost:8080/"
        },
        "id": "He46wEL5XNOs",
        "outputId": "066d180e-1da6-4ec9-ef87-8cdeac2c10d6"
      },
      "source": [
        "!ls cache/"
      ],
      "execution_count": null,
      "outputs": [
        {
          "output_type": "stream",
          "text": [
            "_critic_model_weights_step_0.h5     _generator_model_weights_step_0.h5\n",
            "_critic_model_weights_step_1000.h5  _generator_model_weights_step_1000.h5\n",
            "_critic_model_weights_step_100.h5   _generator_model_weights_step_100.h5\n",
            "_critic_model_weights_step_1100.h5  _generator_model_weights_step_1100.h5\n",
            "_critic_model_weights_step_1200.h5  _generator_model_weights_step_1200.h5\n",
            "_critic_model_weights_step_200.h5   _generator_model_weights_step_200.h5\n",
            "_critic_model_weights_step_300.h5   _generator_model_weights_step_300.h5\n",
            "_critic_model_weights_step_400.h5   _generator_model_weights_step_400.h5\n",
            "_critic_model_weights_step_500.h5   _generator_model_weights_step_500.h5\n",
            "_critic_model_weights_step_600.h5   _generator_model_weights_step_600.h5\n",
            "_critic_model_weights_step_700.h5   _generator_model_weights_step_700.h5\n",
            "_critic_model_weights_step_800.h5   _generator_model_weights_step_800.h5\n",
            "_critic_model_weights_step_900.h5   _generator_model_weights_step_900.h5\n"
          ],
          "name": "stdout"
        }
      ]
    },
    {
      "cell_type": "code",
      "metadata": {
        "pycharm": {
          "name": "#%%\n"
        },
        "id": "ebXufJMz9b3m",
        "colab": {
          "base_uri": "https://localhost:8080/",
          "height": 884
        },
        "outputId": "36f5787b-d8f6-4416-ec41-bb321b090673"
      },
      "source": [
        "# Setup parameters visualization parameters\n",
        "seed = 42\n",
        "test_size = train_samples.shape[0] # number of fraud cases\n",
        "\n",
        "np.random.seed(seed)\n",
        "z = np.random.normal(size=(1024, noise_dim))\n",
        "real = synthesizer.get_data_batch(train=train_samples, batch_size=test_size, seed=seed)\n",
        "real_samples = pd.DataFrame(real, columns=data_cols)\n",
        "\n",
        "model_names = ['GAN']\n",
        "colors = ['deepskyblue','blue']\n",
        "markers = ['o','^']\n",
        "class_labels = ['Class 1','Class 2']\n",
        "\n",
        "col1, col2 = 'V5', 'V17'\n",
        "\n",
        "base_dir = 'cache/'\n",
        "\n",
        "#Actual fraud data visualization\n",
        "model_steps = [ 0, 400, 800, 1200]\n",
        "rows = len(model_steps)\n",
        "columns = 5\n",
        "\n",
        "axarr = [[]]*len(model_steps)\n",
        "\n",
        "fig = plt.figure(figsize=(14,rows*3))\n",
        "\n",
        "for model_step_ix, model_step in enumerate(model_steps):        \n",
        "    axarr[model_step_ix] = plt.subplot(rows, columns, model_step_ix*columns + 1)\n",
        "    \n",
        "    # for group, color, marker, label in zip(real_samples.groupby('Class'), colors, markers, class_labels ):\n",
        "    plt.scatter(\n",
        "        real_samples[[col1]], real_samples[[col2]], \n",
        "        marker='o', edgecolors=['deepskyblue'], facecolors='none' )\n",
        "    \n",
        "    plt.title('Actual Fraud Data')\n",
        "    plt.ylabel(col2) # Only add y label to left plot\n",
        "    plt.xlabel(col1)\n",
        "    xlims, ylims = axarr[model_step_ix].get_xlim(), axarr[model_step_ix].get_ylim()\n",
        "    \n",
        "    # if model_step_ix == 0: \n",
        "        # legend = plt.legend()\n",
        "        # legend.get_frame().set_facecolor('white')\n",
        "    \n",
        "    for i, model_name in enumerate( model_names[:] ):\n",
        "\n",
        "        [model_name, with_class, generator_model] = models[model_name]\n",
        "\n",
        "        generator_model.load_weights( base_dir + '_generator_model_weights_step_'+str(model_step)+'.h5')\n",
        "\n",
        "        ax = plt.subplot(rows, columns, model_step_ix*columns + 1 + (i+1) )\n",
        "\n",
        "        if with_class:\n",
        "            raise NotImplementedError()\n",
        "            # g_z = generator_model.predict([z, labels])\n",
        "            # gen_samples = pd.DataFrame(g_z, columns=data_cols)\n",
        "            # for group, color, marker, label in zip( gen_samples.groupby('Class'), colors, markers, class_labels ):\n",
        "            #     plt.scatter( group[1][[col1]], group[1][[col2]], \n",
        "            #                      label=label, marker=marker, edgecolors=color, facecolors='none' )\n",
        "        else:\n",
        "            g_z = generator_model.predict(z)\n",
        "            gen_samples = pd.DataFrame(g_z, columns=data_cols)\n",
        "            gen_samples.to_csv('Generated_sample.csv')\n",
        "            plt.scatter( gen_samples[[col1]], gen_samples[[col2]], \n",
        "                         marker=markers[0], edgecolors=colors[0], facecolors='none' )\n",
        "        plt.title(model_name)   \n",
        "        plt.xlabel(col1)\n",
        "        ax.set_xlim(xlims), ax.set_ylim(ylims)\n",
        "\n",
        "plt.suptitle('Comparison of GAN outputs', size=16, fontweight='bold')\n",
        "plt.tight_layout(rect=[0.075,0,1,0.95])\n",
        "\n",
        "# Adding text labels for traning steps\n",
        "vpositions = np.array([ i._position.bounds[1] for i in axarr ])\n",
        "vpositions += ((vpositions[0] - vpositions[1]) * 0.35 )\n",
        "for model_step_ix, model_step in enumerate( model_steps ):\n",
        "    fig.text( 0.05, vpositions[model_step_ix], 'training\\nstep\\n'+str(model_step), ha='center', va='center', size=12)\n",
        "\n",
        "plt.savefig('Comparison_of_GAN_outputs.png')"
      ],
      "execution_count": null,
      "outputs": [
        {
          "output_type": "stream",
          "text": [
            "WARNING:tensorflow:Model was constructed with shape (192, 32) for input Tensor(\"input_1:0\", shape=(192, 32), dtype=float32), but it was called on an input with incompatible shape (32, 32).\n"
          ],
          "name": "stdout"
        },
        {
          "output_type": "display_data",
          "data": {
            "image/png": "[encoded data removed]",
            "text/plain": [
              "<Figure size 1008x864 with 8 Axes>"
            ]
          },
          "metadata": {
            "tags": [],
            "needs_background": "light"
          }
        }
      ]
    },
    {
      "cell_type": "markdown",
      "metadata": {
        "id": "EB-x_y2PQju0"
      },
      "source": [
        "## Generate More Synthetic Data"
      ]
    },
    {
      "cell_type": "code",
      "metadata": {
        "id": "Z_dl79h5Pm5w"
      },
      "source": [
        "generator = synthesizer.generator\n",
        "generator.load_weights( base_dir + '_generator_model_weights_step_' + str(epochs-1) + '.h5')"
      ],
      "execution_count": null,
      "outputs": []
    },
    {
      "cell_type": "code",
      "metadata": {
        "id": "pERcxcfzXIGq"
      },
      "source": [
        "test_size =  1024 // batch_size * batch_size\n",
        "tmp = []\n",
        "for _ in range(0, test_size, batch_size):\n",
        "    z = np.random.normal(size=(batch_size, noise_dim))\n",
        "    g_z = generator_model.predict(z)\n",
        "    tmp.append(g_z)\n",
        "gen_samples = pd.DataFrame(np.concatenate(tmp, axis=0), columns=data_cols)\n",
        "gen_samples.to_csv('/gdrive/My Drive/colab tmp/generated_fraud_data.csv', index=False)"
      ],
      "execution_count": null,
      "outputs": []
    },
    {
      "cell_type": "markdown",
      "metadata": {
        "id": "CMWfwq_oRYKB"
      },
      "source": [
        "## Compare Model Accuracies"
      ]
    },
    {
      "cell_type": "code",
      "metadata": {
        "id": "8Ls4XEgJWmGX"
      },
      "source": [
        "from sklearn.metrics import confusion_matrix, accuracy_score, f1_score, roc_auc_score\n",
        "import numpy as np\n",
        "def evaluate(model, X, y, cutoff=None):\n",
        "    # y_hat = model.predict(X)\n",
        "    y_hat_prob = model.predict_proba(X)[:, 1]\n",
        "    if cutoff:\n",
        "        best_cutoff = cutoff\n",
        "        best_f1 = f1_score(y, (y_hat_prob >= cutoff).astype('int'))\n",
        "    else:\n",
        "        best_f1, best_cutoff = 0, 0\n",
        "        for cutoff in np.arange(0., 1, 0.01):\n",
        "            y_hat = (y_hat_prob >= cutoff).astype('int')\n",
        "            score = f1_score(y, y_hat)\n",
        "            if score > best_f1:\n",
        "                best_f1, best_cutoff = score, cutoff\n",
        "    print(f\"F1: {best_f1} @ {best_cutoff:.2f}\")\n",
        "    # print(f\"Acc: {accuracy_score(y, y_hat)}\")\n",
        "    print(confusion_matrix(y, (y_hat_prob >= best_cutoff).astype('int')))\n",
        "    \n",
        "    print(f\"AUC: {roc_auc_score(y, y_hat_prob)}\")\n",
        "    return best_cutoff"
      ],
      "execution_count": null,
      "outputs": []
    },
    {
      "cell_type": "code",
      "metadata": {
        "id": "dc4AD-lngWXu"
      },
      "source": [
        "model_params = dict(\n",
        "    n_estimators=300, max_depth=8, max_leaf_nodes=2**6, class_weight=\"balanced_subsample\"\n",
        ")"
      ],
      "execution_count": null,
      "outputs": []
    },
    {
      "cell_type": "markdown",
      "metadata": {
        "id": "BN9DE7B9Rdbx"
      },
      "source": [
        "### Baseline (Train Real; Test Real)"
      ]
    },
    {
      "cell_type": "code",
      "metadata": {
        "colab": {
          "base_uri": "https://localhost:8080/"
        },
        "id": "Ty3hxiM0Admg",
        "outputId": "d4dbcc8b-9415-4e8a-f191-a26580def90d"
      },
      "source": [
        "y_train.shape"
      ],
      "execution_count": null,
      "outputs": [
        {
          "output_type": "execute_result",
          "data": {
            "text/plain": [
              "(12295,)"
            ]
          },
          "metadata": {
            "tags": []
          },
          "execution_count": 19
        }
      ]
    },
    {
      "cell_type": "code",
      "metadata": {
        "colab": {
          "base_uri": "https://localhost:8080/"
        },
        "id": "faAsAJ96WM90",
        "outputId": "7a9ee806-357f-49d6-cded-3a18bcdb141c"
      },
      "source": [
        "model = RandomForestClassifier(**model_params)\n",
        "model.fit(X_train.values, y_train.values)"
      ],
      "execution_count": null,
      "outputs": [
        {
          "output_type": "execute_result",
          "data": {
            "text/plain": [
              "RandomForestClassifier(bootstrap=True, ccp_alpha=0.0,\n",
              "                       class_weight='balanced_subsample', criterion='gini',\n",
              "                       max_depth=8, max_features='auto', max_leaf_nodes=64,\n",
              "                       max_samples=None, min_impurity_decrease=0.0,\n",
              "                       min_impurity_split=None, min_samples_leaf=1,\n",
              "                       min_samples_split=2, min_weight_fraction_leaf=0.0,\n",
              "                       n_estimators=300, n_jobs=None, oob_score=False,\n",
              "                       random_state=None, verbose=0, warm_start=False)"
            ]
          },
          "metadata": {
            "tags": []
          },
          "execution_count": 20
        }
      ]
    },
    {
      "cell_type": "code",
      "metadata": {
        "colab": {
          "base_uri": "https://localhost:8080/"
        },
        "id": "tMiGId6eZVEa",
        "outputId": "23312a86-c268-41a8-996f-d5d7b404c309"
      },
      "source": [
        "cutoff = evaluate(model, X_valid.values, y_valid.values)"
      ],
      "execution_count": null,
      "outputs": [
        {
          "output_type": "stream",
          "text": [
            "F1: 0.9130434782608695 @ 0.38\n",
            "[[3998    2]\n",
            " [  14   84]]\n",
            "AUC: 0.9802066326530612\n"
          ],
          "name": "stdout"
        }
      ]
    },
    {
      "cell_type": "code",
      "metadata": {
        "colab": {
          "base_uri": "https://localhost:8080/"
        },
        "id": "-QdfBjEQWhAx",
        "outputId": "2166a942-1327-4075-8b0d-cf4467fe2a44"
      },
      "source": [
        "_ = evaluate(model, X_test.values, y_test.values, cutoff)"
      ],
      "execution_count": null,
      "outputs": [
        {
          "output_type": "stream",
          "text": [
            "F1: 0.9081632653061225 @ 0.38\n",
            "[[3992    8]\n",
            " [  10   89]]\n",
            "AUC: 0.9808611111111111\n"
          ],
          "name": "stdout"
        }
      ]
    },
    {
      "cell_type": "markdown",
      "metadata": {
        "id": "N8btxnC5XJHy"
      },
      "source": [
        "### Train Real + Synthetic; Test Real"
      ]
    },
    {
      "cell_type": "code",
      "metadata": {
        "colab": {
          "base_uri": "https://localhost:8080/"
        },
        "id": "fecBVmJTXPIO",
        "outputId": "ab935484-cc0b-438e-8557-4cd669fbb42a"
      },
      "source": [
        "X_train_both = pd.concat([X_train, gen_samples], axis=0)\n",
        "y_train_both = pd.concat([y_train, pd.Series(np.ones(gen_samples.shape[0]))])\n",
        "y_train_both.shape"
      ],
      "execution_count": null,
      "outputs": [
        {
          "output_type": "execute_result",
          "data": {
            "text/plain": [
              "(13255,)"
            ]
          },
          "metadata": {
            "tags": []
          },
          "execution_count": 23
        }
      ]
    },
    {
      "cell_type": "code",
      "metadata": {
        "colab": {
          "base_uri": "https://localhost:8080/"
        },
        "id": "pqxW9YXfXNfR",
        "outputId": "91594d6c-de6e-48e4-d646-60200558a559"
      },
      "source": [
        "model = RandomForestClassifier(**model_params)\n",
        "model.fit(X_train_both.values, y_train_both.values)"
      ],
      "execution_count": null,
      "outputs": [
        {
          "output_type": "execute_result",
          "data": {
            "text/plain": [
              "RandomForestClassifier(bootstrap=True, ccp_alpha=0.0,\n",
              "                       class_weight='balanced_subsample', criterion='gini',\n",
              "                       max_depth=8, max_features='auto', max_leaf_nodes=64,\n",
              "                       max_samples=None, min_impurity_decrease=0.0,\n",
              "                       min_impurity_split=None, min_samples_leaf=1,\n",
              "                       min_samples_split=2, min_weight_fraction_leaf=0.0,\n",
              "                       n_estimators=300, n_jobs=None, oob_score=False,\n",
              "                       random_state=None, verbose=0, warm_start=False)"
            ]
          },
          "metadata": {
            "tags": []
          },
          "execution_count": 24
        }
      ]
    },
    {
      "cell_type": "code",
      "metadata": {
        "colab": {
          "base_uri": "https://localhost:8080/"
        },
        "id": "GFRtmYsEZBu5",
        "outputId": "cc6e49a0-322a-4c4d-8a93-e7f490071638"
      },
      "source": [
        "cutoff = evaluate(model, X_valid.values, y_valid.values)"
      ],
      "execution_count": null,
      "outputs": [
        {
          "output_type": "stream",
          "text": [
            "F1: 0.9120879120879121 @ 0.61\n",
            "[[3999    1]\n",
            " [  15   83]]\n",
            "AUC: 0.9836147959183673\n"
          ],
          "name": "stdout"
        }
      ]
    },
    {
      "cell_type": "code",
      "metadata": {
        "colab": {
          "base_uri": "https://localhost:8080/"
        },
        "id": "6H_IQEfEXp3S",
        "outputId": "56017b42-794c-4ded-b969-3be47b962682"
      },
      "source": [
        "_ = evaluate(model, X_test.values, y_test.values, cutoff=cutoff)"
      ],
      "execution_count": null,
      "outputs": [
        {
          "output_type": "stream",
          "text": [
            "F1: 0.9072164948453608 @ 0.61\n",
            "[[3993    7]\n",
            " [  11   88]]\n",
            "AUC: 0.9797070707070707\n"
          ],
          "name": "stdout"
        }
      ]
    },
    {
      "cell_type": "markdown",
      "metadata": {
        "id": "MAGLFTHnX_2K"
      },
      "source": [
        "### Train Synthetic; Test Real"
      ]
    },
    {
      "cell_type": "code",
      "metadata": {
        "colab": {
          "base_uri": "https://localhost:8080/"
        },
        "id": "_vOumerxYCLr",
        "outputId": "8740f998-755a-4a60-c726-de0685cfcb49"
      },
      "source": [
        "X_train_fake = pd.concat([X_train[y_train==0], gen_samples], axis=0)\n",
        "y_train_fake = pd.concat([y_train[y_train==0], pd.Series(np.ones(gen_samples.shape[0]))])\n",
        "y_train_fake.shape"
      ],
      "execution_count": null,
      "outputs": [
        {
          "output_type": "execute_result",
          "data": {
            "text/plain": [
              "(12960,)"
            ]
          },
          "metadata": {
            "tags": []
          },
          "execution_count": 27
        }
      ]
    },
    {
      "cell_type": "code",
      "metadata": {
        "colab": {
          "base_uri": "https://localhost:8080/"
        },
        "id": "yPc78gBLYLd9",
        "outputId": "13eb535c-3456-4147-82cb-74dda3e11a50"
      },
      "source": [
        "model = RandomForestClassifier(**model_params)\n",
        "model.fit(X_train_fake.values, y_train_fake.values)"
      ],
      "execution_count": null,
      "outputs": [
        {
          "output_type": "execute_result",
          "data": {
            "text/plain": [
              "RandomForestClassifier(bootstrap=True, ccp_alpha=0.0,\n",
              "                       class_weight='balanced_subsample', criterion='gini',\n",
              "                       max_depth=8, max_features='auto', max_leaf_nodes=64,\n",
              "                       max_samples=None, min_impurity_decrease=0.0,\n",
              "                       min_impurity_split=None, min_samples_leaf=1,\n",
              "                       min_samples_split=2, min_weight_fraction_leaf=0.0,\n",
              "                       n_estimators=300, n_jobs=None, oob_score=False,\n",
              "                       random_state=None, verbose=0, warm_start=False)"
            ]
          },
          "metadata": {
            "tags": []
          },
          "execution_count": 28
        }
      ]
    },
    {
      "cell_type": "code",
      "metadata": {
        "colab": {
          "base_uri": "https://localhost:8080/"
        },
        "id": "t6Fhel1bYuwv",
        "outputId": "c77cb36d-52ea-4aa1-d887-19d655a5a03b"
      },
      "source": [
        "cutoff = evaluate(model, X_valid.values, y_valid.values)"
      ],
      "execution_count": null,
      "outputs": [
        {
          "output_type": "stream",
          "text": [
            "F1: 0.8926553672316384 @ 0.55\n",
            "[[4000    0]\n",
            " [  19   79]]\n",
            "AUC: 0.983670918367347\n"
          ],
          "name": "stdout"
        }
      ]
    },
    {
      "cell_type": "code",
      "metadata": {
        "colab": {
          "base_uri": "https://localhost:8080/"
        },
        "id": "J6sPmM4hYSZL",
        "outputId": "60eb7d6e-155c-45c9-dd2b-53e461c34a4c"
      },
      "source": [
        "_ = evaluate(model, X_test.values, y_test.values, cutoff=cutoff)"
      ],
      "execution_count": null,
      "outputs": [
        {
          "output_type": "stream",
          "text": [
            "F1: 0.8900523560209425 @ 0.55\n",
            "[[3993    7]\n",
            " [  14   85]]\n",
            "AUC: 0.9758131313131313\n"
          ],
          "name": "stdout"
        }
      ]
    },
    {
      "cell_type": "code",
      "metadata": {
        "id": "_1qmHe80a2F2"
      },
      "source": [
        ""
      ],
      "execution_count": null,
      "outputs": []
    }
  ]
}